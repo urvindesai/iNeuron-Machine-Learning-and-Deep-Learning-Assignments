{
 "cells": [
  {
   "cell_type": "markdown",
   "metadata": {},
   "source": [
    "# 1.1 Write a Python Program(with class concepts) to find the area of the triangle using the below formula.\n",
    "# area = (s*(s-a)*(s-b)*(s-c)) ** 0.5\n",
    "# Function to take the length of the sides of triangle from user should be defined in the parent class and function to calculate the area should be defined in subclass."
   ]
  },
  {
   "cell_type": "code",
   "execution_count": 4,
   "metadata": {},
   "outputs": [],
   "source": [
    "class Inputs:\n",
    "    def __init__(self, s, a, b, c):\n",
    "        self.s = s\n",
    "        self.a = a\n",
    "        self.b = b\n",
    "        self.c = c\n",
    "        \n",
    "class Triangle(Inputs):\n",
    "    def __init__(self, *args):\n",
    "        super(Triangle,self).__init__(*args)\n",
    "        self.area = (self.s*(self.s - self.a)*(self.s - self.b)*(self.s - self.c)) * 0.5\n",
    "        print(\"The area of the triangle is : \", self.area)\n",
    "        "
   ]
  },
  {
   "cell_type": "code",
   "execution_count": 6,
   "metadata": {},
   "outputs": [
    {
     "name": "stdout",
     "output_type": "stream",
     "text": [
      "The area of the triangle is :  12.0\n"
     ]
    }
   ],
   "source": [
    "Tri = Triangle(4,1,2,3)"
   ]
  },
  {
   "cell_type": "markdown",
   "metadata": {},
   "source": [
    "# 1.2 Write a function filter_long_words() that takes a list of words and an integer n and returns the list of words that are longer than n."
   ]
  },
  {
   "cell_type": "code",
   "execution_count": 5,
   "metadata": {},
   "outputs": [],
   "source": [
    "def filter_long_words(l, n):\n",
    "    l2 = []\n",
    "    for i in l:\n",
    "        if len(i) > n:\n",
    "            l2.append(i)\n",
    "    \n",
    "    return l2"
   ]
  },
  {
   "cell_type": "code",
   "execution_count": 6,
   "metadata": {},
   "outputs": [
    {
     "name": "stdout",
     "output_type": "stream",
     "text": [
      "The list of long words are :  ['aaaaa', 'cccccc']\n"
     ]
    }
   ],
   "source": [
    "l1 = [\"aaaaa\",\"bb\",\"cccccc\", \"d\",\"ee\"]\n",
    "print(\"The list of long words are : \", filter_long_words(l1, 3))"
   ]
  },
  {
   "cell_type": "markdown",
   "metadata": {},
   "source": [
    "# 2.1 Write a Python program using function concept that maps list of words into a list of integers representing the lengths of the corresponding words."
   ]
  },
  {
   "cell_type": "code",
   "execution_count": 7,
   "metadata": {},
   "outputs": [],
   "source": [
    "def words(l):\n",
    "    l1 = []\n",
    "    for i in l:\n",
    "        l1.append(len(i))\n",
    "    \n",
    "    return l1"
   ]
  },
  {
   "cell_type": "code",
   "execution_count": 9,
   "metadata": {},
   "outputs": [
    {
     "name": "stdout",
     "output_type": "stream",
     "text": [
      "The length of words for ['aaaaa', 'bb', 'cccccc', 'd', 'ee'] are : [5, 2, 6, 1, 2]\n"
     ]
    }
   ],
   "source": [
    "l2 = [\"aaaaa\",\"bb\",\"cccccc\", \"d\",\"ee\"]\n",
    "length_list = words(l2)\n",
    "print(\"The length of words for {} are : {}\".format(l2, length_list))"
   ]
  },
  {
   "cell_type": "markdown",
   "metadata": {},
   "source": [
    "# 2.2 Write a Python function which takes a character (i.e. a string of length 1) and returns True if it is a vowel, False otherwise."
   ]
  },
  {
   "cell_type": "code",
   "execution_count": 10,
   "metadata": {},
   "outputs": [],
   "source": [
    "def vowel_check(z):\n",
    "    if len(z) > 1:\n",
    "        print(\"Please pass a single character\")\n",
    "    else:\n",
    "        if z in ['a', 'e', 'i', 'o', 'u']:\n",
    "            return True\n",
    "        else:\n",
    "            return False\n"
   ]
  },
  {
   "cell_type": "code",
   "execution_count": 14,
   "metadata": {},
   "outputs": [
    {
     "data": {
      "text/plain": [
       "True"
      ]
     },
     "execution_count": 14,
     "metadata": {},
     "output_type": "execute_result"
    }
   ],
   "source": [
    "Checker = vowel_check('a')\n",
    "Checker"
   ]
  }
 ],
 "metadata": {
  "kernelspec": {
   "display_name": "Python 3",
   "language": "python",
   "name": "python3"
  },
  "language_info": {
   "codemirror_mode": {
    "name": "ipython",
    "version": 3
   },
   "file_extension": ".py",
   "mimetype": "text/x-python",
   "name": "python",
   "nbconvert_exporter": "python",
   "pygments_lexer": "ipython3",
   "version": "3.8.3"
  }
 },
 "nbformat": 4,
 "nbformat_minor": 4
}
